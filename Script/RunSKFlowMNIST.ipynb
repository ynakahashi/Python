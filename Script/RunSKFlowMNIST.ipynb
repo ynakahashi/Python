{
 "cells": [
  {
   "cell_type": "code",
   "execution_count": 27,
   "metadata": {
    "collapsed": false
   },
   "outputs": [],
   "source": [
    "\"\"\"\n",
    "This example showcases how simple it is to build image classification networks.\n",
    "It follows description from this TensorFlow tutorial:\n",
    "    https://www.tensorflow.org/versions/master/tutorials/mnist/pros/index.html#deep-mnist-for-experts\n",
    "\"\"\"\n",
    "from sklearn import metrics\n",
    "import tensorflow as tf\n",
    "from tensorflow.examples.tutorials.mnist import input_data\n",
    "import skflow"
   ]
  },
  {
   "cell_type": "code",
   "execution_count": 28,
   "metadata": {
    "collapsed": false
   },
   "outputs": [
    {
     "name": "stdout",
     "output_type": "stream",
     "text": [
      "Extracting MNIST_data/train-images-idx3-ubyte.gz\n",
      "Extracting MNIST_data/train-labels-idx1-ubyte.gz\n",
      "Extracting MNIST_data/t10k-images-idx3-ubyte.gz\n",
      "Extracting MNIST_data/t10k-labels-idx1-ubyte.gz\n"
     ]
    }
   ],
   "source": [
    "### Download and load MNIST data.\n",
    "mnist = input_data.read_data_sets('MNIST_data')"
   ]
  },
  {
   "cell_type": "code",
   "execution_count": 29,
   "metadata": {
    "collapsed": false
   },
   "outputs": [
    {
     "name": "stdout",
     "output_type": "stream",
     "text": [
      "Step #1, avg. loss: 2.64234\n",
      "Step #101, avg. loss: 1.90145\n",
      "Step #201, avg. loss: 1.36286\n",
      "Step #301, avg. loss: 1.10363\n",
      "Step #401, avg. loss: 0.95203\n",
      "Step #501, avg. loss: 0.85592\n",
      "Step #601, epoch #1, avg. loss: 0.78724\n",
      "Step #701, epoch #1, avg. loss: 0.73279\n",
      "Step #801, epoch #1, avg. loss: 0.70121\n",
      "Step #901, epoch #1, avg. loss: 0.65916\n"
     ]
    },
    {
     "data": {
      "text/plain": [
       "TensorFlowLinearClassifier(batch_size=100, continue_training=False,\n",
       "              early_stopping_rounds=None,\n",
       "              keep_checkpoint_every_n_hours=10000, learning_rate=0.01,\n",
       "              max_to_keep=5, n_classes=10, optimizer='SGD', steps=1000,\n",
       "              tf_master='', tf_random_seed=42, verbose=1)"
      ]
     },
     "execution_count": 29,
     "metadata": {},
     "output_type": "execute_result"
    }
   ],
   "source": [
    "### Linear classifier\n",
    "classifier = skflow.TensorFlowLinearClassifier(\n",
    "    n_classes=10, batch_size=100, steps=1000, learning_rate=0.01)\n",
    "classifier.fit(mnist.train.images, mnist.train.labels)"
   ]
  },
  {
   "cell_type": "code",
   "execution_count": 30,
   "metadata": {
    "collapsed": false
   },
   "outputs": [
    {
     "name": "stdout",
     "output_type": "stream",
     "text": [
      "Accuracy: 0.860700\n",
      "Accuracy: 0.860700\n"
     ]
    }
   ],
   "source": [
    "score = metrics.accuracy_score(mnist.test.labels, classifier.predict(mnist.test.images))\n",
    "print('Accuracy: {0:f}'.format(score))\n",
    "print \"Accuracy: %f\" % score"
   ]
  },
  {
   "cell_type": "code",
   "execution_count": 31,
   "metadata": {
    "collapsed": true
   },
   "outputs": [],
   "source": [
    "### Convolutional network\n",
    "def max_pool_2x2(tensor_in):\n",
    "    return tf.nn.max_pool(tensor_in, ksize=[1, 2, 2, 1], strides=[1, 2, 2, 1],\n",
    "        padding='SAME')\n",
    "\n",
    "def conv_model(X, y):\n",
    "    # reshape X to 4d tensor with 2nd and 3rd dimensions being image width and height\n",
    "    # final dimension being the number of color channels\n",
    "    X = tf.reshape(X, [-1, 28, 28, 1])\n",
    "    # first conv layer will compute 32 features for each 5x5 patch\n",
    "    with tf.variable_scope('conv_layer1'):\n",
    "        h_conv1 = skflow.ops.conv2d(X, n_filters=32, filter_shape=[5, 5], \n",
    "                                    bias=True, activation=tf.nn.relu)\n",
    "        h_pool1 = max_pool_2x2(h_conv1)\n",
    "    # second conv layer will compute 64 features for each 5x5 patch\n",
    "    with tf.variable_scope('conv_layer2'):\n",
    "        h_conv2 = skflow.ops.conv2d(h_pool1, n_filters=64, filter_shape=[5, 5], \n",
    "                                    bias=True, activation=tf.nn.relu)\n",
    "        h_pool2 = max_pool_2x2(h_conv2)\n",
    "        # reshape tensor into a batch of vectors\n",
    "        h_pool2_flat = tf.reshape(h_pool2, [-1, 7 * 7 * 64])\n",
    "    # densely connected layer with 1024 neurons\n",
    "    h_fc1 = skflow.ops.dnn(h_pool2_flat, [1024], activation=tf.nn.relu, keep_prob=0.5)\n",
    "    return skflow.models.logistic_regression(h_fc1, y)"
   ]
  },
  {
   "cell_type": "code",
   "execution_count": 32,
   "metadata": {
    "collapsed": false
   },
   "outputs": [
    {
     "name": "stdout",
     "output_type": "stream",
     "text": [
      "Step #1, avg. loss: 3.32872\n",
      "Step #101, avg. loss: 2.47812\n",
      "Step #201, avg. loss: 2.21500\n",
      "Step #301, avg. loss: 2.04412\n",
      "Step #401, avg. loss: 1.89221\n",
      "Step #501, avg. loss: 1.75343\n",
      "Step #601, epoch #1, avg. loss: 1.64950\n",
      "Step #701, epoch #1, avg. loss: 1.59568\n",
      "Step #801, epoch #1, avg. loss: 1.67436\n",
      "Step #901, epoch #1, avg. loss: 1.90646\n"
     ]
    },
    {
     "data": {
      "text/plain": [
       "TensorFlowEstimator(batch_size=100, continue_training=False,\n",
       "          early_stopping_rounds=None, keep_checkpoint_every_n_hours=10000,\n",
       "          learning_rate=0.001, max_to_keep=5,\n",
       "          model_fn=<function conv_model at 0x1021b1b90>, n_classes=10,\n",
       "          num_cores=4, optimizer='SGD', steps=1000, tf_master='',\n",
       "          tf_random_seed=42, verbose=1)"
      ]
     },
     "execution_count": 32,
     "metadata": {},
     "output_type": "execute_result"
    }
   ],
   "source": [
    "# Training and predicting\n",
    "classifier = skflow.TensorFlowEstimator(\n",
    "    model_fn=conv_model, n_classes=10, batch_size=100, steps=1000,\n",
    "    learning_rate=0.001)\n",
    "classifier.fit(mnist.train.images, mnist.train.labels)"
   ]
  },
  {
   "cell_type": "code",
   "execution_count": 11,
   "metadata": {
    "collapsed": false
   },
   "outputs": [
    {
     "name": "stdout",
     "output_type": "stream",
     "text": [
      "Accuracy: 0.631300\n"
     ]
    }
   ],
   "source": [
    "score = metrics.accuracy_score(mnist.test.labels, classifier.predict(mnist.test.images))\n",
    "print('Accuracy: {0:f}'.format(score))"
   ]
  }
 ],
 "metadata": {
  "kernelspec": {
   "display_name": "Python 2",
   "language": "python",
   "name": "python2"
  },
  "language_info": {
   "codemirror_mode": {
    "name": "ipython",
    "version": 2
   },
   "file_extension": ".py",
   "mimetype": "text/x-python",
   "name": "python",
   "nbconvert_exporter": "python",
   "pygments_lexer": "ipython2",
   "version": "2.7.11"
  }
 },
 "nbformat": 4,
 "nbformat_minor": 0
}
