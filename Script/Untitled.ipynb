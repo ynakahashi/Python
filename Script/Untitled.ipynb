{
 "cells": [
  {
   "cell_type": "markdown",
   "metadata": {},
   "source": [
    "# Bayesian t-test\n",
    "二標本の平均値の差に対するBayesian t-testのスクリプトをPythonで書く．"
   ]
  },
  {
   "cell_type": "markdown",
   "metadata": {},
   "source": [
    "必要なパッケージの読み込み"
   ]
  },
  {
   "cell_type": "code",
   "execution_count": 3,
   "metadata": {
    "collapsed": true
   },
   "outputs": [],
   "source": [
    "import pandas as pd\n",
    "import numpy as np"
   ]
  },
  {
   "cell_type": "markdown",
   "metadata": {},
   "source": [
    "パラメータを設定する．二標本の標本サイズ・平均・分散を定義する．分散は等しいものとする．"
   ]
  },
  {
   "cell_type": "code",
   "execution_count": 2,
   "metadata": {
    "collapsed": true
   },
   "outputs": [],
   "source": [
    "N_01   = 100 \n",
    "mu_01  = 100\n",
    "sig_01 = 10\n",
    "\n",
    "N_02   = 100\n",
    "mu_02  = 105\n",
    "sig_02 = 10"
   ]
  },
  {
   "cell_type": "markdown",
   "metadata": {},
   "source": [
    "乱数のシードを設定した上でデータを生成する．"
   ]
  },
  {
   "cell_type": "code",
   "execution_count": 4,
   "metadata": {
    "collapsed": true
   },
   "outputs": [],
   "source": [
    "np.random.seed(123)\n",
    "pop_01 = np.random.normal(loc = mu_01, scale = sig_01, size = N_01)\n",
    "pop_02 = np.random.normal(loc = mu_02, scale = sig_02, size = N_02)"
   ]
  },
  {
   "cell_type": "markdown",
   "metadata": {},
   "source": [
    "尤度を定義する．正規分布に従う確率変数$y$の尤度は以下の通り：\n",
    "$$ L(y|\\mu, \\sigma^2) = \\frac{1}{\\sqrt{2\\pi\\sigma^2}}\\rm{Exp}\\left[-\\frac{(y - \\mu)^2}{2\\sigma^2}\\right] $$"
   ]
  },
  {
   "cell_type": "code",
   "execution_count": 5,
   "metadata": {
    "collapsed": true
   },
   "outputs": [],
   "source": [
    "def likelihood(pars):\n",
    "    mu_01  = pars[0]\n",
    "    sig_01 = pars[1]\n",
    "    mu_02  = pars[2]\n",
    "    sig_02 = pars[3]"
   ]
  },
  {
   "cell_type": "code",
   "execution_count": null,
   "metadata": {
    "collapsed": true
   },
   "outputs": [],
   "source": []
  }
 ],
 "metadata": {
  "kernelspec": {
   "display_name": "Python 3",
   "language": "python",
   "name": "python3"
  },
  "language_info": {
   "codemirror_mode": {
    "name": "ipython",
    "version": 3
   },
   "file_extension": ".py",
   "mimetype": "text/x-python",
   "name": "python",
   "nbconvert_exporter": "python",
   "pygments_lexer": "ipython3",
   "version": "3.6.3"
  }
 },
 "nbformat": 4,
 "nbformat_minor": 2
}
