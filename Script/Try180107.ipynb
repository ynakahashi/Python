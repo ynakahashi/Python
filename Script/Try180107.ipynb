{
 "cells": [
  {
   "cell_type": "markdown",
   "metadata": {
    "collapsed": true
   },
   "source": [
    "## Jupyterを使ったドキュメンテーション\n",
    "\n",
    "久しぶりにJupyterを使ってPythonを書いてみる。JupyterならTexも使えるらしい。このように。\n",
    "\n",
    "$$\\frac{1}{\\sqrt{2\\pi\\sigma^2}}Exp[\\frac{(x-\\mu)^2}{\\sigma^{2}}]$$\n",
    "\n",
    "このやり方でR Notebookで書いたドキュメントをPythonに直してみる？"
   ]
  },
  {
   "cell_type": "code",
   "execution_count": null,
   "metadata": {
    "collapsed": true
   },
   "outputs": [],
   "source": []
  }
 ],
 "metadata": {
  "kernelspec": {
   "display_name": "Python 3",
   "language": "python",
   "name": "python3"
  },
  "language_info": {
   "codemirror_mode": {
    "name": "ipython",
    "version": 3
   },
   "file_extension": ".py",
   "mimetype": "text/x-python",
   "name": "python",
   "nbconvert_exporter": "python",
   "pygments_lexer": "ipython3",
   "version": "3.6.3"
  }
 },
 "nbformat": 4,
 "nbformat_minor": 2
}
