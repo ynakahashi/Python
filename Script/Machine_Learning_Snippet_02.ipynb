{
 "cells": [
  {
   "cell_type": "markdown",
   "metadata": {},
   "source": [
    "## Machine Learning Snippet 01\n",
    "- <b>Dataset</b> :: Iris\n",
    "- <b>Library</b> :: sklearn\n",
    "- <b>Algorythm</b>\n",
    "    1. Support Vector Machine\n",
    "    1. Ada Boost\n",
    "    1. Extra Trees\n",
    "    1. Gradient Boosting\n",
    "    1. Random Forest"
   ]
  },
  {
   "cell_type": "markdown",
   "metadata": {},
   "source": [
    "まずは分析に必要なライブラリのインポート。"
   ]
  },
  {
   "cell_type": "code",
   "execution_count": 2,
   "metadata": {
    "collapsed": true
   },
   "outputs": [],
   "source": [
    "import sklearn as skl\n",
    "from sklearn.svm import SVR\n",
    "import numpy as np\n",
    "import matplotlib as mt\n",
    "import matplotlib.pyplot as plt\n",
    "import pandas"
   ]
  },
  {
   "cell_type": "markdown",
   "metadata": {},
   "source": [
    "データセットの準備"
   ]
  },
  {
   "cell_type": "code",
   "execution_count": 3,
   "metadata": {
    "collapsed": true
   },
   "outputs": [],
   "source": [
    "np.random.seed(100)\n",
    "x = np.sort(5 * np.random.rand(40, 1), axis=0)\n",
    "y = np.sin(x).ravel()\n",
    "# 最後の 5 は刻み幅。\n",
    "# 0, 5, 10, 15・・・番目のデータに右辺を加える。\n",
    "y[::5] += 3 * (0.5 - numpy.random.rand(8))\n",
    "plt.plot(x, y, \"o\")"
   ]
  },
  {
   "cell_type": "markdown",
   "metadata": {},
   "source": [
    "データセットの内容を確認する"
   ]
  },
  {
   "cell_type": "code",
   "execution_count": 10,
   "metadata": {},
   "outputs": [
    {
     "data": {
      "text/plain": [
       "array([[ 5.1,  3.5,  1.4,  0.2],\n",
       "       [ 4.9,  3. ,  1.4,  0.2],\n",
       "       [ 4.7,  3.2,  1.3,  0.2],\n",
       "       [ 4.6,  3.1,  1.5,  0.2],\n",
       "       [ 5. ,  3.6,  1.4,  0.2]])"
      ]
     },
     "execution_count": 10,
     "metadata": {},
     "output_type": "execute_result"
    }
   ],
   "source": [
    "# 学習器の作成\n",
    "svr_rbf = SVR(kernel='rbf', C=1e3, gamma=0.1)\n",
    "svr_lin = SVR(kernel='linear', C=1e3)\n",
    "svr_poly = SVR(kernel='poly', C=1e3, degree=2)\n",
    "\n",
    "# fitで学習，predictで予測\n",
    "y_rbf = svr_rbf.fit(x, y).predict(x)\n",
    "y_lin = svr_lin.fit(x, y).predict(x)\n",
    "y_poly = svr_poly.fit(x, y).predict(x)\n",
    "\n",
    "plt.plot(x, y, \"x\", color=\"r\")\n",
    "plt.plot(x, y_rbf, \"o\")\n",
    "plt.plot(x, y_lin, \"o\")\n",
    "plt.plot(x, y_poly, \"o\")"
   ]
  },
  {
   "cell_type": "code",
   "execution_count": 12,
   "metadata": {},
   "outputs": [
    {
     "data": {
      "text/plain": [
       "array([0, 0, 0, 0, 0])"
      ]
     },
     "execution_count": 12,
     "metadata": {},
     "output_type": "execute_result"
    }
   ],
   "source": [
    "## SVM(Support Vector Machine, ただしsklearnではSupport Vector Classifier)\n",
    "# 学習データ作成\n",
    "np.random.seed(100)\n",
    "X = np.random.randn(300, 2)\n",
    "# xor は排他的論理和。インプットが異なる場合に True を返す。同値なら False を返す\n",
    "Y = np.logical_xor(X[:,0]>0, X[:,1]>0)\n",
    "# どのようなデータになっているか見てみる\n",
    "Y_df = pandas.DataFrame(Y)\n",
    "Y_df.head()\n",
    "\n",
    "from sklearn.svm import SVC\n",
    "# 分類器の作成\n",
    "clf = SVC(kernel='rbf', C=1e3, gamma=0.1)\n",
    "# 学習\n",
    "clf.fit(X, Y)\n",
    "\n",
    "# 決定関数までの距離を計算\n",
    "xx, yy = np.meshgrid(np.linspace(-3, 3, 500), np.linspace(-3, 3, 500))\n",
    "Z = clf.decision_function(np.c_[xx.ravel(), yy.ravel()])\n",
    "Z = Z.reshape(xx.shape)\n",
    "\n"
   ]
  },
  {
   "cell_type": "code",
   "execution_count": 4,
   "metadata": {
    "collapsed": true
   },
   "outputs": [],
   "source": [
    "# グラフ化\n",
    "plt.imshow(Z, interpolation='nearest', extent=[xx.min(),\n",
    "    xx.max(),\n",
    "    yy.min(),\n",
    "    yy.max()],\n",
    "    aspect='auto',\n",
    "    origin='lower',\n",
    "#    cmap=cm.PuOr_r\n",
    "    )\n",
    "\n",
    "ctr = plt.contour(xx, yy, Z, levels=[0], linetypes='--')\n",
    "plt.scatter(X[:, 0], X[:, 1], c=Y)\n",
    "plt.axis([xx.min(), xx.max(), yy.min(), yy.max()])\n",
    "plt.show()"
   ]
  },
  {
   "cell_type": "code",
   "execution_count": null,
   "metadata": {
    "collapsed": true
   },
   "outputs": [],
   "source": []
  },
  {
   "cell_type": "code",
   "execution_count": null,
   "metadata": {
    "collapsed": true
   },
   "outputs": [],
   "source": [
    "reduced_features = lsa.fit_transform(features)"
   ]
  },
  {
   "cell_type": "code",
   "execution_count": null,
   "metadata": {
    "collapsed": true
   },
   "outputs": [],
   "source": [
    "#どのモデルがいいのかよくわからないから目があったやつとりあえずデフォルト設定で全員皆殺し \n",
    "clf_names = [\"LinearSVC\",\"AdaBoostClassifier\",\"ExtraTreesClassifier\" ,\"GradientBoostingClassifier\",\"RandomForestClassifier\"]\n",
    "for clf_name in clf_names:\n",
    "  clf    = eval(\"%s()\" % clf_name)\n",
    "  scores = cross_val_score(clf,reduced_features, labels,cv=5)\n",
    "  score  = sum(scores) / len(scores)  #モデルの正解率を計測\n",
    "  print \"%sのスコア:%s\" % (clf_name,score)"
   ]
  }
 ],
 "metadata": {
  "kernelspec": {
   "display_name": "Python 3",
   "language": "python",
   "name": "python3"
  },
  "language_info": {
   "codemirror_mode": {
    "name": "ipython",
    "version": 3
   },
   "file_extension": ".py",
   "mimetype": "text/x-python",
   "name": "python",
   "nbconvert_exporter": "python",
   "pygments_lexer": "ipython3",
   "version": "3.6.3"
  }
 },
 "nbformat": 4,
 "nbformat_minor": 2
}
