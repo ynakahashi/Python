{
 "cells": [
  {
   "cell_type": "markdown",
   "metadata": {},
   "source": [
    "# Metropolis Algorithm\n",
    "<i>Statistical Rethinking</i>のP243にある<i>Metropolis Algorithm</i>のサンプルコードをPythonで書き直してみる．"
   ]
  },
  {
   "cell_type": "markdown",
   "metadata": {},
   "source": [
    "まずは必要なパッケージの読み込み．"
   ]
  },
  {
   "cell_type": "code",
   "execution_count": 1,
   "metadata": {
    "collapsed": true
   },
   "outputs": [],
   "source": [
    "import numpy as np\n",
    "import matplotlib.pyplot as plt\n",
    "%matplotlib inline"
   ]
  },
  {
   "cell_type": "markdown",
   "metadata": {},
   "source": [
    "シミュレーションの回数（<i>num_weeks</i>）と結果を格納するためのオブジェクト（<i>positions</i>）を生成する．"
   ]
  },
  {
   "cell_type": "code",
   "execution_count": 2,
   "metadata": {
    "collapsed": true
   },
   "outputs": [],
   "source": [
    "num_weeks = int(1e5)\n",
    "positions = np.zeros(num_weeks)"
   ]
  },
  {
   "cell_type": "markdown",
   "metadata": {},
   "source": [
    "現在滞在している島の位置をランダムに決める．Numpyの<i>random.randint(a, b)</i>は<b>a以上，b未満</b>なので注意．"
   ]
  },
  {
   "cell_type": "code",
   "execution_count": 3,
   "metadata": {},
   "outputs": [],
   "source": [
    "current = np.random.randint(1, 11)"
   ]
  },
  {
   "cell_type": "markdown",
   "metadata": {},
   "source": [
    "<i>num_weeks</i>の数だけloopを回すが，Pythonのインデックスは0から始まることに注意する[1]．\n",
    "[1]: range(num_weeks)のインデックスは0：(num_weeks-1)となるが，Rで同様の書き方となるseq(num_weeks)は1：num_weeksとなる．"
   ]
  },
  {
   "cell_type": "code",
   "execution_count": 4,
   "metadata": {},
   "outputs": [],
   "source": [
    "for i in range(num_weeks):\n",
    "    # record current position\n",
    "    positions[i] = current\n",
    "    \n",
    "    # flip coin to generate proposal island\n",
    "    proposal = current + np.random.choice([-1, 1])\n",
    "    \n",
    "    # make sure the king loops around the archipelago\n",
    "    if proposal < 1:\n",
    "        proposal = 10\n",
    "    elif proposal > 10:\n",
    "        proposal = 1\n",
    "    \n",
    "    # move?\n",
    "    prob_move = proposal / current\n",
    "    if np.random.rand() < prob_move:\n",
    "        current = proposal"
   ]
  },
  {
   "cell_type": "code",
   "execution_count": 5,
   "metadata": {},
   "outputs": [
    {
     "name": "stdout",
     "output_type": "stream",
     "text": [
      "[ 1.  2.  1. ...,  3.  4.  3.]\n"
     ]
    }
   ],
   "source": [
    "print(positions)"
   ]
  },
  {
   "cell_type": "code",
   "execution_count": 6,
   "metadata": {},
   "outputs": [
    {
     "data": {
      "text/plain": [
       "(array([  1961.,   3964.,   5859.,   7442.,   9241.,  11008.,  12541.,\n",
       "         14112.,  15907.,  17965.]),\n",
       " array([  1. ,   1.9,   2.8,   3.7,   4.6,   5.5,   6.4,   7.3,   8.2,\n",
       "          9.1,  10. ]),\n",
       " <a list of 10 Patch objects>)"
      ]
     },
     "execution_count": 6,
     "metadata": {},
     "output_type": "execute_result"
    },
    {
     "data": {
      "image/png": "[encoded data removed]",
      "text/plain": [
       "<matplotlib.figure.Figure at 0x10c9b6f98>"
      ]
     },
     "metadata": {},
     "output_type": "display_data"
    }
   ],
   "source": [
    "plt.hist(positions)"
   ]
  }
 ],
 "metadata": {
  "kernelspec": {
   "display_name": "Python 3",
   "language": "python",
   "name": "python3"
  },
  "language_info": {
   "codemirror_mode": {
    "name": "ipython",
    "version": 3
   },
   "file_extension": ".py",
   "mimetype": "text/x-python",
   "name": "python",
   "nbconvert_exporter": "python",
   "pygments_lexer": "ipython3",
   "version": "3.6.3"
  }
 },
 "nbformat": 4,
 "nbformat_minor": 2
}
