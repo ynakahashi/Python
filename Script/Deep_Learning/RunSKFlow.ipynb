{
 "cells": [
  {
   "cell_type": "code",
   "execution_count": 21,
   "metadata": {
    "collapsed": false
   },
   "outputs": [],
   "source": [
    "# load Libraries & Data\n",
    "import skflow\n",
    "from sklearn import datasets, metrics, preprocessing\n",
    "import matplotlib.pyplot as plt\n",
    "import numpy as np\n",
    "iris = datasets.load_iris()\n",
    "boston = datasets.load_boston()\n",
    "X = preprocessing.StandardScaler().fit_transform(boston.data)"
   ]
  },
  {
   "cell_type": "code",
   "execution_count": 22,
   "metadata": {
    "collapsed": false
   },
   "outputs": [
    {
     "name": "stdout",
     "output_type": "stream",
     "text": [
      "Step #1, avg. loss: 401.24435\n",
      "Step #21, epoch #1, avg. loss: 332.00238\n",
      "Step #41, epoch #2, avg. loss: 117.46356\n",
      "Step #61, epoch #3, avg. loss: 27.45521\n",
      "Step #81, epoch #5, avg. loss: 24.48339\n",
      "Step #101, epoch #6, avg. loss: 21.91273\n",
      "Step #121, epoch #7, avg. loss: 26.14290\n",
      "Step #141, epoch #8, avg. loss: 24.49014\n",
      "Step #161, epoch #10, avg. loss: 21.66310\n",
      "Step #181, epoch #11, avg. loss: 23.08330\n"
     ]
    },
    {
     "data": {
      "text/plain": [
       "TensorFlowLinearRegressor(batch_size=32, continue_training=False,\n",
       "             early_stopping_rounds=None,\n",
       "             keep_checkpoint_every_n_hours=10000, learning_rate=0.1,\n",
       "             max_to_keep=5, n_classes=0, optimizer='SGD', steps=200,\n",
       "             tf_master='', tf_random_seed=42, verbose=1)"
      ]
     },
     "execution_count": 22,
     "metadata": {},
     "output_type": "execute_result"
    }
   ],
   "source": [
    "# Run Liner Regressor\n",
    "LinReg = skflow.TensorFlowLinearRegressor()\n",
    "LinReg.fit(X, boston.target)"
   ]
  },
  {
   "cell_type": "code",
   "execution_count": 23,
   "metadata": {
    "collapsed": false
   },
   "outputs": [
    {
     "name": "stdout",
     "output_type": "stream",
     "text": [
      "MSE: 22.843259\n"
     ]
    }
   ],
   "source": [
    "score = metrics.mean_squared_error(LinReg.predict(X), boston.target)\n",
    "print \"MSE: %f\" % score"
   ]
  },
  {
   "cell_type": "code",
   "execution_count": 25,
   "metadata": {
    "collapsed": false
   },
   "outputs": [],
   "source": [
    "# plot y and y_hat\n",
    "plt.plot(LinReg.predict(X), boston.target, \"ro\")\n",
    "plt.show()"
   ]
  },
  {
   "cell_type": "code",
   "execution_count": 26,
   "metadata": {
    "collapsed": false
   },
   "outputs": [
    {
     "name": "stdout",
     "output_type": "stream",
     "text": [
      "Step #1, avg. loss: 2.29917\n",
      "Step #21, epoch #4, avg. loss: 0.76285\n",
      "Step #41, epoch #8, avg. loss: 0.57509\n",
      "Step #61, epoch #12, avg. loss: 0.48093\n",
      "Step #81, epoch #16, avg. loss: 0.43344\n",
      "Step #101, epoch #20, avg. loss: 0.36720\n",
      "Step #121, epoch #24, avg. loss: 0.53269\n",
      "Step #141, epoch #28, avg. loss: 0.32282\n",
      "Step #161, epoch #32, avg. loss: 0.39039\n",
      "Step #181, epoch #36, avg. loss: 0.28021\n"
     ]
    },
    {
     "data": {
      "text/plain": [
       "TensorFlowLinearClassifier(batch_size=32, continue_training=False,\n",
       "              early_stopping_rounds=None,\n",
       "              keep_checkpoint_every_n_hours=10000, learning_rate=0.1,\n",
       "              max_to_keep=5, n_classes=3, optimizer='SGD', steps=200,\n",
       "              tf_master='', tf_random_seed=42, verbose=1)"
      ]
     },
     "execution_count": 26,
     "metadata": {},
     "output_type": "execute_result"
    }
   ],
   "source": [
    "# Run Linear Classifier\n",
    "LinCls = skflow.TensorFlowLinearClassifier(n_classes=3)\n",
    "LinCls.fit(iris.data, iris.target)"
   ]
  },
  {
   "cell_type": "code",
   "execution_count": 27,
   "metadata": {
    "collapsed": false
   },
   "outputs": [
    {
     "name": "stdout",
     "output_type": "stream",
     "text": [
      "Accuracy : 0.953333\n"
     ]
    }
   ],
   "source": [
    "score = metrics.accuracy_score(LinCls.predict(iris.data), iris.target)\n",
    "print \"Accuracy : %f\" % score\n",
    "LinCls.save('Models/LinCls/')"
   ]
  },
  {
   "cell_type": "code",
   "execution_count": 28,
   "metadata": {
    "collapsed": false
   },
   "outputs": [
    {
     "name": "stdout",
     "output_type": "stream",
     "text": [
      "Step #1, avg. loss: 2.77039\n",
      "Step #21, epoch #4, avg. loss: 0.91467\n",
      "Step #41, epoch #8, avg. loss: 0.60203\n",
      "Step #61, epoch #12, avg. loss: 0.50549\n",
      "Step #81, epoch #16, avg. loss: 0.44620\n",
      "Step #101, epoch #20, avg. loss: 0.39741\n",
      "Step #121, epoch #24, avg. loss: 0.48900\n",
      "Step #141, epoch #28, avg. loss: 0.33494\n",
      "Step #161, epoch #32, avg. loss: 0.34181\n",
      "Step #181, epoch #36, avg. loss: 0.33578\n"
     ]
    },
    {
     "data": {
      "text/plain": [
       "TensorFlowDNNClassifier(batch_size=32, continue_training=False,\n",
       "            early_stopping_rounds=None, hidden_units=[10, 20, 10],\n",
       "            keep_checkpoint_every_n_hours=10000, learning_rate=0.1,\n",
       "            max_to_keep=5, n_classes=3, optimizer='SGD', steps=200,\n",
       "            tf_master='', tf_random_seed=42, verbose=1)"
      ]
     },
     "execution_count": 28,
     "metadata": {},
     "output_type": "execute_result"
    }
   ],
   "source": [
    "# Run Neural Network\n",
    "NNCls = skflow.TensorFlowDNNClassifier(hidden_units=[10, 20, 10], n_classes=3)\n",
    "NNCls.fit(iris.data, iris.target)"
   ]
  },
  {
   "cell_type": "code",
   "execution_count": 29,
   "metadata": {
    "collapsed": false
   },
   "outputs": [
    {
     "name": "stdout",
     "output_type": "stream",
     "text": [
      "Accuracy : 0.973333\n"
     ]
    }
   ],
   "source": [
    "score = metrics.accuracy_score(NNCls.predict(iris.data), iris.target)\n",
    "print \"Accuracy : %f\" % score\n",
    "NNCls.save('Models/NNCls/')"
   ]
  },
  {
   "cell_type": "code",
   "execution_count": 30,
   "metadata": {
    "collapsed": false
   },
   "outputs": [
    {
     "name": "stdout",
     "output_type": "stream",
     "text": [
      "Step #1, avg. loss: 2.78081\n",
      "Step #21, epoch #4, avg. loss: 1.16875\n",
      "Step #41, epoch #8, avg. loss: 0.91115\n",
      "Step #61, epoch #12, avg. loss: 0.62305\n",
      "Step #81, epoch #16, avg. loss: 0.45273\n",
      "Step #101, epoch #20, avg. loss: 0.41307\n",
      "Step #121, epoch #24, avg. loss: 0.43999\n",
      "Step #141, epoch #28, avg. loss: 0.37802\n",
      "Step #161, epoch #32, avg. loss: 0.43342\n",
      "Step #181, epoch #36, avg. loss: 0.38184\n"
     ]
    },
    {
     "data": {
      "text/plain": [
       "TensorFlowEstimator(batch_size=32, continue_training=False,\n",
       "          early_stopping_rounds=None, keep_checkpoint_every_n_hours=10000,\n",
       "          learning_rate=0.1, max_to_keep=5,\n",
       "          model_fn=<function my_model at 0x112031d70>, n_classes=3,\n",
       "          num_cores=4, optimizer='SGD', steps=200, tf_master='',\n",
       "          tf_random_seed=42, verbose=1)"
      ]
     },
     "execution_count": 30,
     "metadata": {},
     "output_type": "execute_result"
    }
   ],
   "source": [
    "# RUn Neural Network 2\n",
    "def my_model(X, y):\n",
    "    \"\"\"This is DNN with 10, 20, 10 hidden layers, and dropout of 0.5 probability.\"\"\"\n",
    "    layers = skflow.ops.dnn(X, [10, 20, 10], keep_prob=0.5)\n",
    "    return skflow.models.logistic_regression(layers, y)\n",
    "classifier = skflow.TensorFlowEstimator(model_fn=my_model, n_classes=3)\n",
    "classifier.fit(iris.data, iris.target)"
   ]
  },
  {
   "cell_type": "code",
   "execution_count": 31,
   "metadata": {
    "collapsed": false
   },
   "outputs": [
    {
     "name": "stdout",
     "output_type": "stream",
     "text": [
      "Accuracy: 0.813333\n"
     ]
    }
   ],
   "source": [
    "score = metrics.accuracy_score(classifier.predict(iris.data), iris.target)\n",
    "print(\"Accuracy: %f\" % score)\n",
    "classifier.save('Models/cls/')"
   ]
  },
  {
   "cell_type": "code",
   "execution_count": 32,
   "metadata": {
    "collapsed": false
   },
   "outputs": [
    {
     "data": {
      "text/plain": [
       "array([0, 0, 0, 0, 0, 0, 0, 0, 0, 0, 0, 0, 0, 0, 0, 0, 0, 0, 0, 0, 0, 0, 0,\n",
       "       0, 0, 0, 0, 0, 0, 0, 0, 0, 0, 0, 0, 0, 0, 0, 0, 0, 0, 0, 0, 0, 0, 0,\n",
       "       0, 0, 0, 0, 1, 1, 1, 1, 1, 1, 1, 1, 1, 1, 1, 1, 1, 1, 1, 1, 1, 1, 1,\n",
       "       1, 2, 1, 2, 1, 1, 1, 1, 1, 1, 1, 1, 1, 1, 2, 2, 1, 1, 1, 1, 1, 1, 1,\n",
       "       1, 1, 1, 1, 1, 1, 1, 1, 2, 2, 2, 2, 2, 2, 2, 2, 2, 2, 2, 2, 2, 2, 2,\n",
       "       2, 2, 2, 2, 2, 2, 2, 2, 2, 2, 2, 2, 2, 2, 2, 2, 2, 2, 2, 2, 2, 2, 2,\n",
       "       2, 2, 2, 2, 2, 2, 2, 2, 2, 2, 2, 2])"
      ]
     },
     "execution_count": 32,
     "metadata": {},
     "output_type": "execute_result"
    }
   ],
   "source": [
    "newNNCls = skflow.TensorFlowEstimator.restore('Models/NNCls/')\n",
    "newNNCls.predict(iris.data)"
   ]
  },
  {
   "cell_type": "code",
   "execution_count": 70,
   "metadata": {
    "collapsed": false
   },
   "outputs": [
    {
     "name": "stdout",
     "output_type": "stream",
     "text": [
      "Step #1, avg. loss: 2.77039\n",
      "Step #21, epoch #4, avg. loss: 0.91467\n",
      "Step #41, epoch #8, avg. loss: 0.60203\n",
      "Step #61, epoch #12, avg. loss: 0.50549\n",
      "Step #81, epoch #16, avg. loss: 0.44620\n",
      "Step #101, epoch #20, avg. loss: 0.39741\n",
      "Step #121, epoch #24, avg. loss: 0.48900\n",
      "Step #141, epoch #28, avg. loss: 0.33494\n",
      "Step #161, epoch #32, avg. loss: 0.34181\n",
      "Step #181, epoch #36, avg. loss: 0.33578\n"
     ]
    },
    {
     "data": {
      "text/plain": [
       "TensorFlowDNNClassifier(batch_size=32, continue_training=False,\n",
       "            early_stopping_rounds=None, hidden_units=[10, 20, 10],\n",
       "            keep_checkpoint_every_n_hours=10000, learning_rate=0.1,\n",
       "            max_to_keep=5, n_classes=3, optimizer='SGD', steps=200,\n",
       "            tf_master='', tf_random_seed=42, verbose=1)"
      ]
     },
     "execution_count": 70,
     "metadata": {},
     "output_type": "execute_result"
    }
   ],
   "source": [
    "NNCls.fit(iris.data, iris.target, logdir='Models/NNCls/')"
   ]
  },
  {
   "cell_type": "code",
   "execution_count": 33,
   "metadata": {
    "collapsed": true
   },
   "outputs": [],
   "source": [
    "# Run below code on the terminal\n",
    "# NOTICE : give an absolute path\n",
    "# $tensorboard -- logdir=/Users/nakahashi/Desktop/PythonTraining/Models/NNCls/"
   ]
  },
  {
   "cell_type": "code",
   "execution_count": null,
   "metadata": {
    "collapsed": true
   },
   "outputs": [],
   "source": []
  }
 ],
 "metadata": {
  "kernelspec": {
   "display_name": "Python 2",
   "language": "python",
   "name": "python2"
  },
  "language_info": {
   "codemirror_mode": {
    "name": "ipython",
    "version": 2
   },
   "file_extension": ".py",
   "mimetype": "text/x-python",
   "name": "python",
   "nbconvert_exporter": "python",
   "pygments_lexer": "ipython2",
   "version": "2.7.11"
  }
 },
 "nbformat": 4,
 "nbformat_minor": 0
}
