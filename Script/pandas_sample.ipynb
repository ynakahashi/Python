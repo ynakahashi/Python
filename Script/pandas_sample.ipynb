{
 "metadata": {
  "name": "",
  "signature": "sha256:915123b6337f805a8bc8970e5d1a18bf0b61c54b3645814aee794dff5678c261"
 },
 "nbformat": 3,
 "nbformat_minor": 0,
 "worksheets": [
  {
   "cells": [
    {
     "cell_type": "code",
     "collapsed": false,
     "input": [
      "pylab inline --no-import-all"
     ],
     "language": "python",
     "metadata": {},
     "outputs": [
      {
       "output_type": "stream",
       "stream": "stdout",
       "text": [
        "Populating the interactive namespace from numpy and matplotlib\n"
       ]
      }
     ],
     "prompt_number": 1
    },
    {
     "cell_type": "code",
     "collapsed": false,
     "input": [
      "import pandas as pd"
     ],
     "language": "python",
     "metadata": {},
     "outputs": [],
     "prompt_number": 8
    },
    {
     "cell_type": "code",
     "collapsed": false,
     "input": [
      "data_training_tmp = pd.read_csv(\"C:/Users/140282/Desktop/Analytics/07_Training/Python/CodeIQ_auth.txt\", \n",
      "                                delimiter=\" \", names=[\"mass\", \"weight\", \"ans\"])"
     ],
     "language": "python",
     "metadata": {},
     "outputs": [],
     "prompt_number": 42
    },
    {
     "cell_type": "code",
     "collapsed": false,
     "input": [
      "print data_training_tmp.head()"
     ],
     "language": "python",
     "metadata": {},
     "outputs": [
      {
       "output_type": "stream",
       "stream": "stdout",
       "text": [
        "    mass  weight  ans\n",
        "0  0.745  14.385    1\n",
        "1  0.394   5.016    0\n",
        "2  0.384   7.246    1\n",
        "3  0.574   9.450    1\n",
        "4  0.603   8.198    0\n"
       ]
      }
     ],
     "prompt_number": 43
    },
    {
     "cell_type": "code",
     "collapsed": false,
     "input": [
      "print data_training_tmp.tail()"
     ],
     "language": "python",
     "metadata": {},
     "outputs": [
      {
       "output_type": "stream",
       "stream": "stdout",
       "text": [
        "     mass  weight  ans\n",
        "95  0.381   4.726    0\n",
        "96  0.406   3.437    0\n",
        "97  0.420   6.815    1\n",
        "98  0.385   6.376    1\n",
        "99  0.532   6.499    0\n"
       ]
      }
     ],
     "prompt_number": 44
    },
    {
     "cell_type": "code",
     "collapsed": false,
     "input": [
      "x = data_training_tmp[\"mass\"]"
     ],
     "language": "python",
     "metadata": {},
     "outputs": [],
     "prompt_number": 45
    },
    {
     "cell_type": "code",
     "collapsed": false,
     "input": [
      "y = data_training_tmp[\"weight\"]"
     ],
     "language": "python",
     "metadata": {},
     "outputs": [],
     "prompt_number": 46
    },
    {
     "cell_type": "code",
     "collapsed": false,
     "input": [
      "pd.scatter_matrix(data_training_tmp)"
     ],
     "language": "python",
     "metadata": {},
     "outputs": [
      {
       "metadata": {},
       "output_type": "pyout",
       "prompt_number": 41,
       "text": [
        "array([[<matplotlib.axes._subplots.AxesSubplot object at 0x000000000D28B7F0>,\n",
        "        <matplotlib.axes._subplots.AxesSubplot object at 0x000000000D68D860>,\n",
        "        <matplotlib.axes._subplots.AxesSubplot object at 0x000000000D745F60>],\n",
        "       [<matplotlib.axes._subplots.AxesSubplot object at 0x000000000D7F7320>,\n",
        "        <matplotlib.axes._subplots.AxesSubplot object at 0x000000000D8F2E80>,\n",
        "        <matplotlib.axes._subplots.AxesSubplot object at 0x000000000D86D898>],\n",
        "       [<matplotlib.axes._subplots.AxesSubplot object at 0x000000000DA9FF98>,\n",
        "        <matplotlib.axes._subplots.AxesSubplot object at 0x000000000DBAAB38>,\n",
        "        <matplotlib.axes._subplots.AxesSubplot object at 0x000000000DC90A58>]], dtype=object)"
       ]
      },
      {
       "metadata": {},
       "output_type": "display_data",
       "png": "[encoded data removed]",
       "text": [
        "<matplotlib.figure.Figure at 0xd56d208>"
       ]
      }
     ],
     "prompt_number": 41
    },
    {
     "cell_type": "code",
     "collapsed": false,
     "input": [
      "data_training_tmp.info()"
     ],
     "language": "python",
     "metadata": {},
     "outputs": [
      {
       "output_type": "stream",
       "stream": "stdout",
       "text": [
        "<class 'pandas.core.frame.DataFrame'>\n",
        "Int64Index: 100 entries, 0 to 99\n",
        "Data columns (total 3 columns):\n",
        "mass      100 non-null float64\n",
        "weight    100 non-null float64\n",
        "ans       100 non-null int64\n",
        "dtypes: float64(2), int64(1)"
       ]
      }
     ],
     "prompt_number": 49
    },
    {
     "cell_type": "code",
     "collapsed": false,
     "input": [
      "data_training_tmp.describe()"
     ],
     "language": "python",
     "metadata": {},
     "outputs": [
      {
       "html": [
        "<div style=\"max-height:1000px;max-width:1500px;overflow:auto;\">\n",
        "<table border=\"1\" class=\"dataframe\">\n",
        "  <thead>\n",
        "    <tr style=\"text-align: right;\">\n",
        "      <th></th>\n",
        "      <th>mass</th>\n",
        "      <th>weight</th>\n",
        "      <th>ans</th>\n",
        "    </tr>\n",
        "  </thead>\n",
        "  <tbody>\n",
        "    <tr>\n",
        "      <th>count</th>\n",
        "      <td> 100.000000</td>\n",
        "      <td> 100.000000</td>\n",
        "      <td> 100.000000</td>\n",
        "    </tr>\n",
        "    <tr>\n",
        "      <th>mean</th>\n",
        "      <td>   0.706760</td>\n",
        "      <td>  10.127630</td>\n",
        "      <td>   0.500000</td>\n",
        "    </tr>\n",
        "    <tr>\n",
        "      <th>std</th>\n",
        "      <td>   0.233511</td>\n",
        "      <td>   4.042222</td>\n",
        "      <td>   0.502519</td>\n",
        "    </tr>\n",
        "    <tr>\n",
        "      <th>min</th>\n",
        "      <td>   0.358000</td>\n",
        "      <td>   3.437000</td>\n",
        "      <td>   0.000000</td>\n",
        "    </tr>\n",
        "    <tr>\n",
        "      <th>25%</th>\n",
        "      <td>   0.509500</td>\n",
        "      <td>   6.905750</td>\n",
        "      <td>   0.000000</td>\n",
        "    </tr>\n",
        "    <tr>\n",
        "      <th>50%</th>\n",
        "      <td>   0.651500</td>\n",
        "      <td>   8.751500</td>\n",
        "      <td>   0.500000</td>\n",
        "    </tr>\n",
        "    <tr>\n",
        "      <th>75%</th>\n",
        "      <td>   0.905000</td>\n",
        "      <td>  13.326500</td>\n",
        "      <td>   1.000000</td>\n",
        "    </tr>\n",
        "    <tr>\n",
        "      <th>max</th>\n",
        "      <td>   1.249000</td>\n",
        "      <td>  19.904000</td>\n",
        "      <td>   1.000000</td>\n",
        "    </tr>\n",
        "  </tbody>\n",
        "</table>\n",
        "</div>"
       ],
       "metadata": {},
       "output_type": "pyout",
       "prompt_number": 50,
       "text": [
        "             mass      weight         ans\n",
        "count  100.000000  100.000000  100.000000\n",
        "mean     0.706760   10.127630    0.500000\n",
        "std      0.233511    4.042222    0.502519\n",
        "min      0.358000    3.437000    0.000000\n",
        "25%      0.509500    6.905750    0.000000\n",
        "50%      0.651500    8.751500    0.500000\n",
        "75%      0.905000   13.326500    1.000000\n",
        "max      1.249000   19.904000    1.000000"
       ]
      }
     ],
     "prompt_number": 50
    },
    {
     "cell_type": "code",
     "collapsed": false,
     "input": [
      "type(data_training_tmp)"
     ],
     "language": "python",
     "metadata": {},
     "outputs": [
      {
       "metadata": {},
       "output_type": "pyout",
       "prompt_number": 51,
       "text": [
        "pandas.core.frame.DataFrame"
       ]
      }
     ],
     "prompt_number": 51
    },
    {
     "cell_type": "code",
     "collapsed": false,
     "input": [
      "type(data_training_tmp[\"mass\"])"
     ],
     "language": "python",
     "metadata": {},
     "outputs": [
      {
       "metadata": {},
       "output_type": "pyout",
       "prompt_number": 52,
       "text": [
        "pandas.core.series.Series"
       ]
      }
     ],
     "prompt_number": 52
    },
    {
     "cell_type": "code",
     "collapsed": false,
     "input": [
      "data_training_tmp.head()"
     ],
     "language": "python",
     "metadata": {},
     "outputs": [
      {
       "html": [
        "<div style=\"max-height:1000px;max-width:1500px;overflow:auto;\">\n",
        "<table border=\"1\" class=\"dataframe\">\n",
        "  <thead>\n",
        "    <tr style=\"text-align: right;\">\n",
        "      <th></th>\n",
        "      <th>mass</th>\n",
        "      <th>weight</th>\n",
        "      <th>ans</th>\n",
        "    </tr>\n",
        "  </thead>\n",
        "  <tbody>\n",
        "    <tr>\n",
        "      <th>0</th>\n",
        "      <td> 0.745</td>\n",
        "      <td> 14.385</td>\n",
        "      <td> 1</td>\n",
        "    </tr>\n",
        "    <tr>\n",
        "      <th>1</th>\n",
        "      <td> 0.394</td>\n",
        "      <td>  5.016</td>\n",
        "      <td> 0</td>\n",
        "    </tr>\n",
        "    <tr>\n",
        "      <th>2</th>\n",
        "      <td> 0.384</td>\n",
        "      <td>  7.246</td>\n",
        "      <td> 1</td>\n",
        "    </tr>\n",
        "    <tr>\n",
        "      <th>3</th>\n",
        "      <td> 0.574</td>\n",
        "      <td>  9.450</td>\n",
        "      <td> 1</td>\n",
        "    </tr>\n",
        "    <tr>\n",
        "      <th>4</th>\n",
        "      <td> 0.603</td>\n",
        "      <td>  8.198</td>\n",
        "      <td> 0</td>\n",
        "    </tr>\n",
        "  </tbody>\n",
        "</table>\n",
        "</div>"
       ],
       "metadata": {},
       "output_type": "pyout",
       "prompt_number": 53,
       "text": [
        "    mass  weight  ans\n",
        "0  0.745  14.385    1\n",
        "1  0.394   5.016    0\n",
        "2  0.384   7.246    1\n",
        "3  0.574   9.450    1\n",
        "4  0.603   8.198    0"
       ]
      }
     ],
     "prompt_number": 53
    },
    {
     "cell_type": "code",
     "collapsed": false,
     "input": [
      "t_data = data_training_tmp[data_training_tmp[\"ans\"] == 1][[\"mass\", \"weight\"]]"
     ],
     "language": "python",
     "metadata": {},
     "outputs": [],
     "prompt_number": 61
    },
    {
     "cell_type": "code",
     "collapsed": false,
     "input": [
      "t_data.head()"
     ],
     "language": "python",
     "metadata": {},
     "outputs": [
      {
       "html": [
        "<div style=\"max-height:1000px;max-width:1500px;overflow:auto;\">\n",
        "<table border=\"1\" class=\"dataframe\">\n",
        "  <thead>\n",
        "    <tr style=\"text-align: right;\">\n",
        "      <th></th>\n",
        "      <th>mass</th>\n",
        "      <th>weight</th>\n",
        "    </tr>\n",
        "  </thead>\n",
        "  <tbody>\n",
        "    <tr>\n",
        "      <th>0 </th>\n",
        "      <td> 0.745</td>\n",
        "      <td> 14.385</td>\n",
        "    </tr>\n",
        "    <tr>\n",
        "      <th>2 </th>\n",
        "      <td> 0.384</td>\n",
        "      <td>  7.246</td>\n",
        "    </tr>\n",
        "    <tr>\n",
        "      <th>3 </th>\n",
        "      <td> 0.574</td>\n",
        "      <td>  9.450</td>\n",
        "    </tr>\n",
        "    <tr>\n",
        "      <th>5 </th>\n",
        "      <td> 0.541</td>\n",
        "      <td>  8.347</td>\n",
        "    </tr>\n",
        "    <tr>\n",
        "      <th>11</th>\n",
        "      <td> 0.838</td>\n",
        "      <td> 13.992</td>\n",
        "    </tr>\n",
        "  </tbody>\n",
        "</table>\n",
        "</div>"
       ],
       "metadata": {},
       "output_type": "pyout",
       "prompt_number": 59,
       "text": [
        "     mass  weight\n",
        "0   0.745  14.385\n",
        "2   0.384   7.246\n",
        "3   0.574   9.450\n",
        "5   0.541   8.347\n",
        "11  0.838  13.992"
       ]
      }
     ],
     "prompt_number": 59
    },
    {
     "cell_type": "code",
     "collapsed": false,
     "input": [
      "f_data = data_training_tmp[data_training_tmp[\"ans\"] == 0][[\"mass\", \"weight\"]]"
     ],
     "language": "python",
     "metadata": {},
     "outputs": [],
     "prompt_number": 62
    },
    {
     "cell_type": "code",
     "collapsed": false,
     "input": [
      "f_data.tail()"
     ],
     "language": "python",
     "metadata": {},
     "outputs": [
      {
       "html": [
        "<div style=\"max-height:1000px;max-width:1500px;overflow:auto;\">\n",
        "<table border=\"1\" class=\"dataframe\">\n",
        "  <thead>\n",
        "    <tr style=\"text-align: right;\">\n",
        "      <th></th>\n",
        "      <th>mass</th>\n",
        "      <th>weight</th>\n",
        "    </tr>\n",
        "  </thead>\n",
        "  <tbody>\n",
        "    <tr>\n",
        "      <th>92</th>\n",
        "      <td> 0.534</td>\n",
        "      <td> 7.537</td>\n",
        "    </tr>\n",
        "    <tr>\n",
        "      <th>93</th>\n",
        "      <td> 0.470</td>\n",
        "      <td> 5.889</td>\n",
        "    </tr>\n",
        "    <tr>\n",
        "      <th>95</th>\n",
        "      <td> 0.381</td>\n",
        "      <td> 4.726</td>\n",
        "    </tr>\n",
        "    <tr>\n",
        "      <th>96</th>\n",
        "      <td> 0.406</td>\n",
        "      <td> 3.437</td>\n",
        "    </tr>\n",
        "    <tr>\n",
        "      <th>99</th>\n",
        "      <td> 0.532</td>\n",
        "      <td> 6.499</td>\n",
        "    </tr>\n",
        "  </tbody>\n",
        "</table>\n",
        "</div>"
       ],
       "metadata": {},
       "output_type": "pyout",
       "prompt_number": 63,
       "text": [
        "     mass  weight\n",
        "92  0.534   7.537\n",
        "93  0.470   5.889\n",
        "95  0.381   4.726\n",
        "96  0.406   3.437\n",
        "99  0.532   6.499"
       ]
      }
     ],
     "prompt_number": 63
    },
    {
     "cell_type": "code",
     "collapsed": false,
     "input": [
      "matplotlib.pyplot.plot(t_data[\"mass\"], t_data[\"weight\"], \"o\")"
     ],
     "language": "python",
     "metadata": {},
     "outputs": [
      {
       "metadata": {},
       "output_type": "pyout",
       "prompt_number": 67,
       "text": [
        "[<matplotlib.lines.Line2D at 0xe848198>]"
       ]
      },
      {
       "metadata": {},
       "output_type": "display_data",
       "png": "[encoded data removed]",
       "text": [
        "<matplotlib.figure.Figure at 0xe8ce0f0>"
       ]
      }
     ],
     "prompt_number": 67
    },
    {
     "cell_type": "code",
     "collapsed": false,
     "input": [
      "matplotlib.pyplot.plot(f_data[\"mass\"], f_data[\"weight\"], \"o\")"
     ],
     "language": "python",
     "metadata": {},
     "outputs": [
      {
       "metadata": {},
       "output_type": "pyout",
       "prompt_number": 77,
       "text": [
        "[<matplotlib.lines.Line2D at 0xf864eb8>]"
       ]
      },
      {
       "metadata": {},
       "output_type": "display_data",
       "png": "[encoded data removed]",
       "text": [
        "<matplotlib.figure.Figure at 0xef5d400>"
       ]
      }
     ],
     "prompt_number": 77
    },
    {
     "cell_type": "code",
     "collapsed": false,
     "input": [],
     "language": "python",
     "metadata": {},
     "outputs": []
    }
   ],
   "metadata": {}
  }
 ]
}