{
 "cells": [
  {
   "cell_type": "markdown",
   "metadata": {},
   "source": [
    "# Bayesian t-test\n",
    "二標本の平均値の差に対するBayesian t-testのスクリプトをPythonで書く．"
   ]
  },
  {
   "cell_type": "markdown",
   "metadata": {},
   "source": [
    "### 分析環境準備\n",
    "必要なパッケージの読み込み"
   ]
  },
  {
   "cell_type": "code",
   "execution_count": 70,
   "metadata": {
    "collapsed": true
   },
   "outputs": [],
   "source": [
    "import pandas as pd\n",
    "import numpy as np\n",
    "from scipy.stats import norm \n",
    "from scipy.stats import uniform\n",
    "import matplotlib.pyplot as plt\n",
    "%matplotlib inline"
   ]
  },
  {
   "cell_type": "markdown",
   "metadata": {},
   "source": [
    "パラメータを設定する．二標本の標本サイズ・平均・分散を定義する．分散は等しいものとする．"
   ]
  },
  {
   "cell_type": "code",
   "execution_count": 2,
   "metadata": {
    "collapsed": true
   },
   "outputs": [],
   "source": [
    "N_01   = 100 \n",
    "mu_01  = 100\n",
    "sig_01 = 10\n",
    "\n",
    "N_02   = 100\n",
    "mu_02  = 105\n",
    "sig_02 = 10"
   ]
  },
  {
   "cell_type": "markdown",
   "metadata": {},
   "source": [
    "乱数のシードを設定した上でデータを生成する．"
   ]
  },
  {
   "cell_type": "code",
   "execution_count": 4,
   "metadata": {
    "collapsed": true
   },
   "outputs": [],
   "source": [
    "np.random.seed(123)\n",
    "pop_01 = np.random.normal(loc = mu_01, scale = sig_01, size = N_01)\n",
    "pop_02 = np.random.normal(loc = mu_02, scale = sig_02, size = N_02)"
   ]
  },
  {
   "cell_type": "markdown",
   "metadata": {},
   "source": [
    "尤度を定義する．正規分布に従う確率変数$y$の尤度は以下の通り：\n",
    "$$ L(y|\\mu, \\sigma^2) = \\frac{1}{\\sqrt{2\\pi\\sigma^2}}\\rm{Exp}\\left[-\\frac{(y - \\mu)^2}{2\\sigma^2}\\right] $$"
   ]
  },
  {
   "cell_type": "code",
   "execution_count": 90,
   "metadata": {
    "collapsed": true
   },
   "outputs": [],
   "source": [
    "def likelihood(pars):\n",
    "    mu_01  = pars[0]\n",
    "    sig_01 = pars[1]\n",
    "    mu_02  = pars[2]\n",
    "    sig_02 = pars[3]\n",
    "    \n",
    "    return(sum(np.log(norm.pdf(x = pop_01, loc = mu_01, scale = sig_01))) +\n",
    "           sum(np.log(norm.pdf(x = pop_02, loc = mu_02, scale = sig_02))))"
   ]
  },
  {
   "cell_type": "code",
   "execution_count": 89,
   "metadata": {},
   "outputs": [
    {
     "data": {
      "text/plain": [
       "-1068.3974145367586"
      ]
     },
     "execution_count": 89,
     "metadata": {},
     "output_type": "execute_result"
    }
   ],
   "source": [
    "likelihood(pars)"
   ]
  },
  {
   "cell_type": "markdown",
   "metadata": {},
   "source": [
    "事前分布の定義．$\\mu$，$\\sigma^2$それぞれ事前分布として一様分布を仮定する．"
   ]
  },
  {
   "cell_type": "code",
   "execution_count": 45,
   "metadata": {
    "collapsed": true
   },
   "outputs": [],
   "source": [
    "def prior(pars):\n",
    "    mu_01  = pars[0]\n",
    "    sig_01 = pars[1]\n",
    "    mu_02  = pars[2]\n",
    "    sig_02 = pars[3]\n",
    "\n",
    "    ll_01 = np.log(uniform.pdf(mu_01,  loc = -10000, scale = 20000))\n",
    "    ll_02 = np.log(uniform.pdf(sig_01, loc = -10000, scale = 20000))\n",
    "    ll_03 = np.log(uniform.pdf(mu_02,  loc = -10000, scale = 20000))\n",
    "    ll_04 = np.log(uniform.pdf(sig_02, loc = -10000, scale = 20000))\n",
    "    \n",
    "    return(ll_01 + ll_02 + ll_03 + ll_04)"
   ]
  },
  {
   "cell_type": "code",
   "execution_count": 41,
   "metadata": {
    "collapsed": true
   },
   "outputs": [],
   "source": [
    "pars = [mu_01, sig_01, mu_02, sig_02]"
   ]
  },
  {
   "cell_type": "markdown",
   "metadata": {},
   "source": [
    "事後分布の定義．logスケールなので，加算するだけ．"
   ]
  },
  {
   "cell_type": "code",
   "execution_count": 91,
   "metadata": {
    "collapsed": true
   },
   "outputs": [],
   "source": [
    "def posterior(pars):\n",
    "    return(likelihood(pars) + prior(pars))    "
   ]
  },
  {
   "cell_type": "markdown",
   "metadata": {},
   "source": [
    "### 分析実行\n",
    "以上で分析のための条件設定が完了．以下，シミュレーションのための諸条件設定．"
   ]
  },
  {
   "cell_type": "code",
   "execution_count": 98,
   "metadata": {},
   "outputs": [],
   "source": [
    "N_iter = 3000\n",
    "pars = [50, 30, 20, 50]\n",
    "results = np.zeros((N_iter, 8))\n",
    "results[0, :] = np.hstack((pars, [0, 0, 0, 0]))"
   ]
  },
  {
   "cell_type": "code",
   "execution_count": 108,
   "metadata": {},
   "outputs": [
    {
     "name": "stdout",
     "output_type": "stream",
     "text": [
      "CPU times: user 20.1 s, sys: 113 ms, total: 20.2 s\n",
      "Wall time: 20.4 s\n"
     ]
    }
   ],
   "source": [
    "%%time\n",
    "candidate = pars\n",
    "for i in range(1, N_iter):\n",
    "    for j in range(4):\n",
    "#        candidate = pars\n",
    "        proposal = candidate\n",
    "        proposal[j] = candidate[j] + np.random.normal(scale = 0.5)\n",
    "        ratio = max(0, np.exp(posterior(proposal) - posterior(candidate)))\n",
    "        t = np.random.uniform()\n",
    "        if (t < ratio):\n",
    "            candidate = proposal\n",
    "\n",
    "    results[i, :] = np.hstack((candidate, [ratio, t, posterior(proposal), posterior(candidate)]))"
   ]
  },
  {
   "cell_type": "code",
   "execution_count": 109,
   "metadata": {},
   "outputs": [
    {
     "data": {
      "text/plain": [
       "[<matplotlib.lines.Line2D at 0x10bf44198>]"
      ]
     },
     "execution_count": 109,
     "metadata": {},
     "output_type": "execute_result"
    },
    {
     "data": {
      "image/png": "[encoded data removed]",
      "text/plain": [
       "<matplotlib.figure.Figure at 0x104aaf518>"
      ]
     },
     "metadata": {},
     "output_type": "display_data"
    }
   ],
   "source": [
    "plt.plot(results[:, 0])\n",
    "plt.plot(results[:, 1])\n"
   ]
  },
  {
   "cell_type": "code",
   "execution_count": 110,
   "metadata": {},
   "outputs": [
    {
     "data": {
      "text/plain": [
       "[<matplotlib.lines.Line2D at 0x10bd2cc50>]"
      ]
     },
     "execution_count": 110,
     "metadata": {},
     "output_type": "execute_result"
    },
    {
     "data": {
      "image/png": "[encoded data removed]",
      "text/plain": [
       "<matplotlib.figure.Figure at 0x10b5800b8>"
      ]
     },
     "metadata": {},
     "output_type": "display_data"
    }
   ],
   "source": [
    "plt.plot(results[:, 2])\n",
    "plt.plot(results[:, 3])"
   ]
  },
  {
   "cell_type": "code",
   "execution_count": null,
   "metadata": {
    "collapsed": true
   },
   "outputs": [],
   "source": []
  }
 ],
 "metadata": {
  "kernelspec": {
   "display_name": "Python 3",
   "language": "python",
   "name": "python3"
  },
  "language_info": {
   "codemirror_mode": {
    "name": "ipython",
    "version": 3
   },
   "file_extension": ".py",
   "mimetype": "text/x-python",
   "name": "python",
   "nbconvert_exporter": "python",
   "pygments_lexer": "ipython3",
   "version": "3.6.3"
  }
 },
 "nbformat": 4,
 "nbformat_minor": 2
}
