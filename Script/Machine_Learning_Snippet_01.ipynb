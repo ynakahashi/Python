{
 "cells": [
  {
   "cell_type": "markdown",
   "metadata": {},
   "source": [
    "# Machine Learning Snippet 01\n",
    "### <i>Summary of Analysis</i>\n",
    "- <b>Dataset</b> :: Iris\n",
    "- <b>Task</b> :: Classification\n",
    "- <b>Evaluation</b> :: Accuracy\n",
    "- <b>Library</b> :: sklearn\n",
    "- <b>Results</b>\n",
    "    1. Support Vector Machine :: 0.97\n",
    "    1. Ada Boost :: 0.96\n",
    "    1. Extra Trees :: 0.94\n",
    "    1. Gradient Boosting :: 0.96\n",
    "    1. Random Forest :: 0.94"
   ]
  },
  {
   "cell_type": "markdown",
   "metadata": {},
   "source": [
    "### 分析環境の構築\n",
    "#### ライブラリの読み込み\n",
    "サンプルデータにはirisを用いることとし，データフレームへの変換のためにpandasを用いる．乱数のシードを固定するためにnumpyを使用する．\n",
    "sklearnからは変数の次元縮約のためにTruncateSVDを，分類器構築のためにLinearSVC，AdaBoost，ExtraTrees，GradientBoosting，RandomForestを用いる．また交差検証のためにcross_val_scoreをロードする．"
   ]
  },
  {
   "cell_type": "code",
   "execution_count": 56,
   "metadata": {},
   "outputs": [],
   "source": [
    "import pandas as pd\n",
    "from sklearn import datasets\n",
    "from sklearn.decomposition import TruncatedSVD\n",
    "from sklearn.svm import LinearSVC\n",
    "from sklearn.ensemble import AdaBoostClassifier,ExtraTreesClassifier ,GradientBoostingClassifier, RandomForestClassifier\n",
    "from sklearn.cross_validation import cross_val_score\n",
    "import numpy as np"
   ]
  },
  {
   "cell_type": "markdown",
   "metadata": {},
   "source": [
    "#### データセットの準備"
   ]
  },
  {
   "cell_type": "code",
   "execution_count": 57,
   "metadata": {
    "collapsed": true
   },
   "outputs": [],
   "source": [
    "iris     = datasets.load_iris()\n",
    "features = iris.data\n",
    "labels   = iris.target"
   ]
  },
  {
   "cell_type": "markdown",
   "metadata": {},
   "source": [
    "データセットの内容を確認する．Rのデータフレームに当たる形式の方が読みやすいので，pandasを使ってDataFrameに変換して表示する．"
   ]
  },
  {
   "cell_type": "code",
   "execution_count": 58,
   "metadata": {},
   "outputs": [
    {
     "data": {
      "text/html": [
       "<div>\n",
       "<style>\n",
       "    .dataframe thead tr:only-child th {\n",
       "        text-align: right;\n",
       "    }\n",
       "\n",
       "    .dataframe thead th {\n",
       "        text-align: left;\n",
       "    }\n",
       "\n",
       "    .dataframe tbody tr th {\n",
       "        vertical-align: top;\n",
       "    }\n",
       "</style>\n",
       "<table border=\"1\" class=\"dataframe\">\n",
       "  <thead>\n",
       "    <tr style=\"text-align: right;\">\n",
       "      <th></th>\n",
       "      <th>0</th>\n",
       "      <th>1</th>\n",
       "      <th>2</th>\n",
       "      <th>3</th>\n",
       "    </tr>\n",
       "  </thead>\n",
       "  <tbody>\n",
       "    <tr>\n",
       "      <th>0</th>\n",
       "      <td>5.1</td>\n",
       "      <td>3.5</td>\n",
       "      <td>1.4</td>\n",
       "      <td>0.2</td>\n",
       "    </tr>\n",
       "    <tr>\n",
       "      <th>1</th>\n",
       "      <td>4.9</td>\n",
       "      <td>3.0</td>\n",
       "      <td>1.4</td>\n",
       "      <td>0.2</td>\n",
       "    </tr>\n",
       "    <tr>\n",
       "      <th>2</th>\n",
       "      <td>4.7</td>\n",
       "      <td>3.2</td>\n",
       "      <td>1.3</td>\n",
       "      <td>0.2</td>\n",
       "    </tr>\n",
       "    <tr>\n",
       "      <th>3</th>\n",
       "      <td>4.6</td>\n",
       "      <td>3.1</td>\n",
       "      <td>1.5</td>\n",
       "      <td>0.2</td>\n",
       "    </tr>\n",
       "    <tr>\n",
       "      <th>4</th>\n",
       "      <td>5.0</td>\n",
       "      <td>3.6</td>\n",
       "      <td>1.4</td>\n",
       "      <td>0.2</td>\n",
       "    </tr>\n",
       "  </tbody>\n",
       "</table>\n",
       "</div>"
      ],
      "text/plain": [
       "     0    1    2    3\n",
       "0  5.1  3.5  1.4  0.2\n",
       "1  4.9  3.0  1.4  0.2\n",
       "2  4.7  3.2  1.3  0.2\n",
       "3  4.6  3.1  1.5  0.2\n",
       "4  5.0  3.6  1.4  0.2"
      ]
     },
     "execution_count": 58,
     "metadata": {},
     "output_type": "execute_result"
    }
   ],
   "source": [
    "pd.DataFrame(features).head(5)"
   ]
  },
  {
   "cell_type": "code",
   "execution_count": 59,
   "metadata": {},
   "outputs": [
    {
     "data": {
      "text/html": [
       "<div>\n",
       "<style>\n",
       "    .dataframe thead tr:only-child th {\n",
       "        text-align: right;\n",
       "    }\n",
       "\n",
       "    .dataframe thead th {\n",
       "        text-align: left;\n",
       "    }\n",
       "\n",
       "    .dataframe tbody tr th {\n",
       "        vertical-align: top;\n",
       "    }\n",
       "</style>\n",
       "<table border=\"1\" class=\"dataframe\">\n",
       "  <thead>\n",
       "    <tr style=\"text-align: right;\">\n",
       "      <th></th>\n",
       "      <th>0</th>\n",
       "    </tr>\n",
       "  </thead>\n",
       "  <tbody>\n",
       "    <tr>\n",
       "      <th>0</th>\n",
       "      <td>0</td>\n",
       "    </tr>\n",
       "    <tr>\n",
       "      <th>1</th>\n",
       "      <td>0</td>\n",
       "    </tr>\n",
       "    <tr>\n",
       "      <th>2</th>\n",
       "      <td>0</td>\n",
       "    </tr>\n",
       "    <tr>\n",
       "      <th>3</th>\n",
       "      <td>0</td>\n",
       "    </tr>\n",
       "    <tr>\n",
       "      <th>4</th>\n",
       "      <td>0</td>\n",
       "    </tr>\n",
       "  </tbody>\n",
       "</table>\n",
       "</div>"
      ],
      "text/plain": [
       "   0\n",
       "0  0\n",
       "1  0\n",
       "2  0\n",
       "3  0\n",
       "4  0"
      ]
     },
     "execution_count": 59,
     "metadata": {},
     "output_type": "execute_result"
    }
   ],
   "source": [
    "pd.DataFrame(iris.target).head(5)"
   ]
  },
  {
   "cell_type": "markdown",
   "metadata": {},
   "source": [
    "### 分析開始\n",
    "#### オリジナルの変数を使用\n",
    "ひとまず全ての変数をそのまま投入した場合の結果を見てみる．"
   ]
  },
  {
   "cell_type": "code",
   "execution_count": 60,
   "metadata": {},
   "outputs": [
    {
     "name": "stdout",
     "output_type": "stream",
     "text": [
      "Score of LinearSVC is 0.966666666667\n",
      "Score of AdaBoostClassifier is 0.946666666667\n",
      "Score of ExtraTreesClassifier is 0.946666666667\n",
      "Score of GradientBoostingClassifier is 0.96\n",
      "Score of RandomForestClassifier is 0.946666666667\n"
     ]
    }
   ],
   "source": [
    "np.random.seed(123)\n",
    "classifier_names = [\"LinearSVC\", \"AdaBoostClassifier\", \"ExtraTreesClassifier\",\n",
    "                    \"GradientBoostingClassifier\", \"RandomForestClassifier\"]\n",
    "for classifier in classifier_names:\n",
    "    model = eval(\"%s()\" % classifier)\n",
    "    res   = cross_val_score(model, features, labels, cv = 5)\n",
    "    score = sum(res) / len(res)\n",
    "    print(\"Score of %s is %s\" % (classifier, score))"
   ]
  },
  {
   "cell_type": "markdown",
   "metadata": {},
   "source": [
    "#### 変数を加工して使用\n",
    "変数をそのまま使うのではなく、特異値分解を用いて次元を圧縮したものを使用．lsaはLatent Semantic Analysis（潜在意味解析）の意．ここでは二次元に圧縮した変数を説明変数として使用する．全体的にちょっと良くなる．"
   ]
  },
  {
   "cell_type": "code",
   "execution_count": 61,
   "metadata": {
    "collapsed": true
   },
   "outputs": [],
   "source": [
    "lsa = TruncatedSVD(2)\n",
    "reduced_features = lsa.fit_transform(features)"
   ]
  },
  {
   "cell_type": "code",
   "execution_count": 62,
   "metadata": {},
   "outputs": [
    {
     "name": "stdout",
     "output_type": "stream",
     "text": [
      "Score of LinearSVC is 0.966666666667\n",
      "Score of AdaBoostClassifier is 0.946666666667\n",
      "Score of ExtraTreesClassifier is 0.946666666667\n",
      "Score of GradientBoostingClassifier is 0.96\n",
      "Score of RandomForestClassifier is 0.946666666667\n"
     ]
    }
   ],
   "source": [
    "np.random.seed(123)\n",
    "classifier_names = [\"LinearSVC\", \"AdaBoostClassifier\", \"ExtraTreesClassifier\",\n",
    "                    \"GradientBoostingClassifier\", \"RandomForestClassifier\"]\n",
    "for classifier in classifier_names:\n",
    "    model = eval(\"%s()\" % classifier)\n",
    "    res   = cross_val_score(model, features, labels, cv = 5)\n",
    "    score = sum(res) / len(res)\n",
    "    print(\"Score of %s is %s\" % (classifier, score))"
   ]
  },
  {
   "cell_type": "code",
   "execution_count": null,
   "metadata": {
    "collapsed": true
   },
   "outputs": [],
   "source": []
  }
 ],
 "metadata": {
  "kernelspec": {
   "display_name": "Python 3",
   "language": "python",
   "name": "python3"
  },
  "language_info": {
   "codemirror_mode": {
    "name": "ipython",
    "version": 3
   },
   "file_extension": ".py",
   "mimetype": "text/x-python",
   "name": "python",
   "nbconvert_exporter": "python",
   "pygments_lexer": "ipython3",
   "version": "3.6.3"
  }
 },
 "nbformat": 4,
 "nbformat_minor": 2
}
